{
 "cells": [
  {
   "cell_type": "markdown",
   "id": "4b3cb107-336f-4617-a018-3fb0dcd12844",
   "metadata": {},
   "source": [
    "# Basics"
   ]
  },
  {
   "cell_type": "markdown",
   "id": "a2322266-df81-4ad3-b1cc-829e1728d469",
   "metadata": {},
   "source": [
    "This document is to help give you some basics of using Python commands (via SageMath) to perform many linear algebra operations. \n",
    "\n",
    "## Document Basics\n",
    "These ipynb type documents allow for both text cells (such as this one) and code cells (such as the next one). \n",
    "\n",
    "To execute a cell (either text or code) press **shift + enter**. \n",
    "\n",
    "Executing a text cell just converts it from edit mode to display mode. Text cells are edited using [Markdown syntax](https://www.markdownguide.org/cheat-sheet/)\n",
    "\n",
    "Executing a code cell will run the code in that cell.\n",
    "\n",
    "To edit/enter a cell just press **enter** or double click. (The active cell will have a coloured bar - usually blue - to the left of it)\n",
    "\n",
    "To exit a cell press **esc** or click outside the cell.\n",
    "\n",
    "## Vectors\n",
    "\n",
    "To build a vector use:\n",
    "`vector([a,b,c])` where you replace the letters with whatever values you like. It can of course be shorter or longer than 3 elements. By default vectors will display as row vectors. \n",
    "\n",
    "Usually we assign the output of operations to variables. Execute the code below to create the vector `u`"
   ]
  },
  {
   "cell_type": "code",
   "execution_count": null,
   "id": "5ec93cd8-4c5d-4a72-b410-f7b3d01cabcf",
   "metadata": {},
   "outputs": [],
   "source": [
    "u = vector([3,1,2])"
   ]
  },
  {
   "cell_type": "markdown",
   "id": "0bc7d118-1cf8-4004-8f09-7638a995b351",
   "metadata": {},
   "source": [
    "Notice nothing gets displayed. To display the output we can use the `show` command. Execute the cell below to see this."
   ]
  },
  {
   "cell_type": "code",
   "execution_count": null,
   "id": "86dbbe2b-4d5a-4207-9f80-7737f413eba2",
   "metadata": {},
   "outputs": [],
   "source": [
    "show(u)"
   ]
  },
  {
   "cell_type": "markdown",
   "id": "0acec628-c89a-4acd-a5a2-8d6ee353125e",
   "metadata": {},
   "source": [
    "Let's build some more variables to make use of:"
   ]
  },
  {
   "cell_type": "code",
   "execution_count": 3,
   "id": "8733c343-1261-442c-9970-0a8ff4f78786",
   "metadata": {},
   "outputs": [],
   "source": [
    "v = vector([1,0,-2])\n",
    "w = vector([-4,2,1])\n",
    "u2 = vector([6,3])\n",
    "v2 = vector([1,2])\n",
    "u4 = vector([1,1,0,1])\n",
    "v4 = vector([2,-1,1,0])"
   ]
  },
  {
   "cell_type": "markdown",
   "id": "b8df162e-5cac-486c-91ff-f132c3aae262",
   "metadata": {},
   "source": [
    "We can perform basic vector operations to create linear combinations using `+` and `*`. "
   ]
  },
  {
   "cell_type": "code",
   "execution_count": null,
   "id": "2951a8b6-2d77-4fd0-a9fe-6081f821d36b",
   "metadata": {},
   "outputs": [],
   "source": [
    "2*v + w"
   ]
  },
  {
   "cell_type": "markdown",
   "id": "5755ca3e-223e-4371-ade3-2ba592384722",
   "metadata": {},
   "source": [
    "When the output of the code returns a value it will display that output directly underneath the cell. If you want it to look \"pretty\" then use the `show` function."
   ]
  },
  {
   "cell_type": "code",
   "execution_count": null,
   "id": "74ceeba2-e023-4fa9-bf57-ae8b9d05091d",
   "metadata": {},
   "outputs": [],
   "source": [
    "z = 2*v + w\n",
    "y = u4 - v4\n",
    "show(z)\n",
    "show(y)"
   ]
  },
  {
   "cell_type": "markdown",
   "id": "0c7048b9-ecec-40ef-8247-b34590ece7a5",
   "metadata": {},
   "source": [
    "To further \"beautify\" the result you can use the following:"
   ]
  },
  {
   "cell_type": "code",
   "execution_count": null,
   "id": "536637c2-b7fc-4b5d-bc6f-458fc25b98d2",
   "metadata": {},
   "outputs": [],
   "source": [
    "show(LatexExpr(\"z =\"), z)\n",
    "show(LatexExpr(\"y =\"), y)"
   ]
  },
  {
   "cell_type": "markdown",
   "id": "e982e3bc-0070-4205-94a7-fb95cbfb99df",
   "metadata": {},
   "source": [
    "Try building some other linear combinations of given the vectors in the code cell below. See what happens when you combine vectors of different dimensions."
   ]
  },
  {
   "cell_type": "code",
   "execution_count": null,
   "id": "a9f9a93e-eb6d-4c40-8e53-f2dde5a20803",
   "metadata": {},
   "outputs": [],
   "source": []
  },
  {
   "cell_type": "markdown",
   "id": "3885c4d6-8d0f-4b55-8d51-9208b1c48936",
   "metadata": {},
   "source": [
    "#### Dot product, Cross product and Norm\n",
    "\n",
    "You can compute each of these using the following functions:\n",
    "\n",
    "$u \\cdot v$ = `u.dot_product(v)`\n",
    "\n",
    "$u \\times v$ = `u.cross_product(v)`\n",
    "\n",
    "$||u||$ = `u.norm()`\n",
    "\n",
    "Try each of these in the code cell below using our previously defined vectors. "
   ]
  },
  {
   "cell_type": "code",
   "execution_count": null,
   "id": "0925b621-e57a-4df5-b7e8-2fe50e18d7e9",
   "metadata": {},
   "outputs": [],
   "source": []
  },
  {
   "cell_type": "markdown",
   "id": "35f6287d-9e2f-4ae3-ae90-1c296da15994",
   "metadata": {},
   "source": [
    "## Matrices"
   ]
  },
  {
   "cell_type": "markdown",
   "id": "a9463950-6613-4a81-9dbb-6b12d65657f1",
   "metadata": {},
   "source": [
    "There are many ways to build a matrix. A few of the more useful ones that will apply in this course are:\n",
    "\n",
    "`A = matrix([[2,1,0],[5,-4,2],[1,2,3],[1,-1,0]])` (directly build all entries organized by row)\n",
    "\n",
    "`B = matrix(4,[2,1,0,5,-4,2,1,2,3,1,-1,0])` (build a matrix from a single set of numbers and specify number of rows )\n",
    "\n",
    "`C = identity_matrix(n)` (build the nxn identity matrix)\n",
    "\n",
    "Run the code cell below to see all of these"
   ]
  },
  {
   "cell_type": "code",
   "execution_count": null,
   "id": "e7d72b11-cbf9-4ce0-b21c-6554db205e8f",
   "metadata": {},
   "outputs": [],
   "source": [
    "A = matrix([[2,1,0],[5,-4,2],[1,2,3],[1,-1,0]])\n",
    "show(LatexExpr(\"A =\"), A)\n",
    "\n",
    "B = matrix(4,[2,1,0,5,-4,2,1,2,3,1,-1,0])\n",
    "show(LatexExpr(\"B =\"), B)\n",
    "\n",
    "C = identity_matrix(4)\n",
    "show(LatexExpr(\"C =\"), C)"
   ]
  },
  {
   "cell_type": "markdown",
   "id": "6e771e1d-3fcf-42f0-8916-16ad149c2d89",
   "metadata": {},
   "source": [
    "We can also use the shortcut `[k]*n` to build a list of the number k appearing n times and from there build a matrix or vector. Run the code below for a demonstration."
   ]
  },
  {
   "cell_type": "code",
   "execution_count": null,
   "id": "c8d093d3-395c-4f3e-874f-f2e2fe19c21e",
   "metadata": {},
   "outputs": [],
   "source": [
    "v = vector([2]*10)\n",
    "show(LatexExpr(\"v =\"), v)\n",
    "\n",
    "D = matrix(5,[8]*30)\n",
    "show(LatexExpr(\"D =\"), D)"
   ]
  },
  {
   "cell_type": "markdown",
   "id": "868fc1fc-c63a-464a-a3d9-ce71445e9cad",
   "metadata": {},
   "source": [
    "#### Matrix operations"
   ]
  },
  {
   "cell_type": "markdown",
   "id": "8196833f-67f6-4f9a-9673-c6ead2527472",
   "metadata": {},
   "source": [
    "We can perform basic operations (when possible) using simple notation such as:\n",
    "\n",
    "`A + B`\n",
    "\n",
    "`2*B - A^2`\n",
    "\n",
    "`A*v`\n",
    "\n",
    "`A*B - B*A`\n",
    "\n",
    "To test this out let us redefine some values"
   ]
  },
  {
   "cell_type": "code",
   "execution_count": 1,
   "id": "cb22ed4d-34f3-4668-9b3b-dd4b5fa68894",
   "metadata": {},
   "outputs": [
    {
     "data": {
      "text/html": [
       "<html>\\(\\displaystyle A = \\left(\\begin{array}{rrr}\n",
       "1 & 0 & 2 \\\\\n",
       "1 & -1 & 0 \\\\\n",
       "2 & -1 & 3\n",
       "\\end{array}\\right)\\)</html>"
      ],
      "text/latex": [
       "$\\displaystyle A = \\left(\\begin{array}{rrr}\n",
       "1 & 0 & 2 \\\\\n",
       "1 & -1 & 0 \\\\\n",
       "2 & -1 & 3\n",
       "\\end{array}\\right)$"
      ],
      "text/plain": [
       "A = [ 1  0  2]\n",
       "[ 1 -1  0]\n",
       "[ 2 -1  3]"
      ]
     },
     "metadata": {},
     "output_type": "display_data"
    },
    {
     "data": {
      "text/html": [
       "<html>\\(\\displaystyle B = \\left(\\begin{array}{rrr}\n",
       "-1 & 2 & 1 \\\\\n",
       "0 & 1 & 1 \\\\\n",
       "0 & 0 & 2\n",
       "\\end{array}\\right)\\)</html>"
      ],
      "text/latex": [
       "$\\displaystyle B = \\left(\\begin{array}{rrr}\n",
       "-1 & 2 & 1 \\\\\n",
       "0 & 1 & 1 \\\\\n",
       "0 & 0 & 2\n",
       "\\end{array}\\right)$"
      ],
      "text/plain": [
       "B = [-1  2  1]\n",
       "[ 0  1  1]\n",
       "[ 0  0  2]"
      ]
     },
     "metadata": {},
     "output_type": "display_data"
    },
    {
     "data": {
      "text/html": [
       "<html>\\(\\displaystyle v = \\left(1,\\,0,\\,1\\right)\\)</html>"
      ],
      "text/latex": [
       "$\\displaystyle v = \\left(1,\\,0,\\,1\\right)$"
      ],
      "text/plain": [
       "v = (1, 0, 1)"
      ]
     },
     "metadata": {},
     "output_type": "display_data"
    }
   ],
   "source": [
    "A = matrix([[1,0,2],\n",
    "            [1,-1,0],\n",
    "            [2,-1,3]])\n",
    "\n",
    "B = matrix([[-1,2,1],\n",
    "            [0,1,1],\n",
    "            [0,0,2]])\n",
    "\n",
    "v = vector([1,0,1])\n",
    "\n",
    "show(LatexExpr(\"A =\"), A)\n",
    "show(LatexExpr(\"B =\"), B)\n",
    "show(LatexExpr(\"v =\"), v)"
   ]
  },
  {
   "cell_type": "markdown",
   "id": "3884d967-5c66-4f94-a7af-5bf29949b020",
   "metadata": {},
   "source": [
    "Try performing some of the operations mentioned above in the cell below."
   ]
  },
  {
   "cell_type": "code",
   "execution_count": null,
   "id": "42076e5b-0289-4892-8d3b-95eb657fa8b7",
   "metadata": {},
   "outputs": [],
   "source": []
  },
  {
   "cell_type": "markdown",
   "id": "f681adff-6538-4168-a676-9f6d56666cbc",
   "metadata": {},
   "source": [
    "#### Other matrix functions\n",
    "\n",
    "Some handy (hopefully self-explanatory) functions include:\n",
    "\n",
    "`A.transpose()`\n",
    "\n",
    "`A.inverse()` (when possible)\n",
    "\n",
    "`A.rref()`\n",
    "\n",
    "`A.augment(v)` (as long as both have the same row count. The vector v can also be a matrix)\n",
    "\n",
    "Try computing $A\\cdot A^{-1}$ in the cell below\n",
    "\n",
    "\n"
   ]
  },
  {
   "cell_type": "code",
   "execution_count": null,
   "id": "168f2a6d-cc15-4b98-86c0-8edc232f5cb6",
   "metadata": {},
   "outputs": [],
   "source": []
  },
  {
   "cell_type": "markdown",
   "id": "96479076-793b-4e25-a11b-4eb095ed8d96",
   "metadata": {},
   "source": [
    "You can also extract specific rows and columns from a matrix (and also change entries) using the functions below:\n",
    "\n",
    "`A.row(i)` returns a copy of row i, where the first row is 0\n",
    "\n",
    "`A.column(j)` returns a copy of column j (as a vector), where the first column is 0\n",
    "\n",
    "`A[i,j]` returns the value at position i,j from A (where the top left if (0,0))\n",
    "\n",
    "`A[i,j] = k` changes the value of position i,j to k\n",
    "\n",
    "\n",
    "In the cell below try adding the columns of the matrix A or B using two different methods: \n",
    "- by extracting each column and adding them up\n",
    "- by using a single vector that will do the same thing after multiplying it by the matrix"
   ]
  },
  {
   "cell_type": "code",
   "execution_count": null,
   "id": "e436181d-2924-4069-8797-eef2a0296ef0",
   "metadata": {},
   "outputs": [],
   "source": []
  },
  {
   "cell_type": "markdown",
   "id": "3972cb4e-633f-4359-9dcc-ea089e320785",
   "metadata": {
    "tags": []
   },
   "source": [
    "# Final exercise\n",
    "\n",
    "An investment advisor is assisting a client in allocating funds among five different investment options with the hope of obtaining $8000. Each option has a different rate of return under five distinct economic scenarios. The goal is to allocate the funds to achieve specific target returns for each economic scenario.\n",
    "\n",
    "#### Investment Options and Their Returns:\n",
    "##### Investment 1 (Tech-Focused):\n",
    "\n",
    "- Tech Boom: 7%\n",
    "- Global Expansion: 5%\n",
    "- Stable Economy: 3%\n",
    "- Market Correction: 2%\n",
    "- Economic Downturn: 1%\n",
    "\n",
    "##### Investment 2 (Balanced Portfolio):\n",
    "\n",
    "- Tech Boom: 2%\n",
    "- Global Expansion: 4%\n",
    "- Stable Economy: 5%\n",
    "- Market Correction: 6%\n",
    "- Economic Downturn: 3%\n",
    "\n",
    "##### Investment 3 (Agrarian-Focused):\n",
    "\n",
    "- Tech Boom: 1%\n",
    "- Global Expansion: 2%\n",
    "- Stable Economy: 4%\n",
    "- Market Correction: 5%\n",
    "- Economic Downturn: 6%\n",
    "\n",
    "##### Investment 4 (Emerging Markets):\n",
    "\n",
    "- Tech Boom: 4%\n",
    "- Global Expansion: 6%\n",
    "- Stable Economy: 2%\n",
    "- Market Correction: 1%\n",
    "- Economic Downturn: 5%\n",
    "\n",
    "##### Investment 5 (Government Bonds):\n",
    "\n",
    "- Tech Boom: 3%\n",
    "- Global Expansion: 1%\n",
    "- Stable Economy: 6%\n",
    "- Market Correction: 7%\n",
    "- Economic Downturn: 4%\n",
    "\n",
    "##### Target Returns for the Portfolio:\n",
    "- Tech Boom: 8\n",
    "- Global Expansion: 8\n",
    "- Stable Economy: 8\n",
    "- Market Correction: 8\n",
    "- Economic Downturn: 8\n",
    "\n",
    "<div style=\"background-color: lightpink; color:black; padding: 10px\">\n",
    "\n",
    "#### Formulation of the Problem:\n",
    "The allocation problem can be formulated as a system of linear equations, where $x_1$ to $x_5$ represent the amount of money allocated (in thousands) to each investment option. The system can be represented in matrix form as follows:\n",
    "\n",
    "$$\n",
    "\\begin{aligned}\n",
    "0.07x_1 + 0.02x_2 + 0.01x_3 + 0.04x_4 + 0.03x_5 &= 8 \\quad \\text{(Tech Boom)} \\\\\n",
    "0.05x_1 + 0.04x_2 + 0.02x_3 + 0.06x_4 + 0.01x_5 &= 8 \\quad \\text{(Global Expansion)} \\\\\n",
    "0.03x_1 + 0.05x_2 + 0.04x_3 + 0.02x_4 + 0.06x_5 &= 8 \\quad \\text{(Stable Economy)} \\\\\n",
    "0.02x_1 + 0.06x_2 + 0.05x_3 + 0.01x_4 + 0.07x_5 &= 8 \\quad \\text{(Market Correction)} \\\\\n",
    "0.01x_1 + 0.03x_2 + 0.06x_3 + 0.05x_4 + 0.04x_5 &= 8 \\quad \\text{(Economic Downturn)}\n",
    "\\end{aligned}\n",
    "$$\n",
    "\n",
    "Use the code cell below along with the provided matrix to determine how much should be put into each investment option and then **answer the questions on Learn.** That is, you are simply expected to solve the system above by using command(s) you learned earlier in the document.\n",
    "    \n",
    "</div>\n",
    "\n",
    "(Note, because computers can't represent numbers perfectly it can cause problems during arithmetic. We can help the situation in our `matrix` function by first specifying the types of numbers we expect to use. If everything will be rational numbers then we should use the `QQ` option; If using real numbers then `RR` would make sense; Similarly `CC` is for complex numbers and `ZZ` for integers. When we don't specify anything - as we did earlier during the examples - the system does its best to infer which type of number should be used.)\n"
   ]
  },
  {
   "cell_type": "code",
   "execution_count": 1,
   "id": "ee5e1618-8ae7-48b7-977d-e58483238570",
   "metadata": {},
   "outputs": [],
   "source": [
    "P = matrix(QQ,[\n",
    "    [0.07, 0.02, 0.01, 0.04, 0.03, 8],  # Tech Boom\n",
    "    [0.05, 0.04, 0.02, 0.06, 0.01, 8],  # Global Expansion\n",
    "    [0.03, 0.05, 0.04, 0.02, 0.06, 8],  # Stable Economy\n",
    "    [0.02, 0.06, 0.05, 0.01, 0.07, 8],  # Market Correction\n",
    "    [0.01, 0.03, 0.06, 0.05, 0.04, 8]   # Economic Downturn\n",
    "])\n"
   ]
  },
  {
   "cell_type": "markdown",
   "id": "647bff8f-39f7-4c71-869e-dec09a51fedc",
   "metadata": {},
   "source": [
    "To understand the problem a bit better note that only one of the 5 scenarios will play out: either *Tech Boom, Global Expansion, Stable Economy, Market Correction* or *Economic Downturn*. We don't know which one it will be but the hope is that by allocating different funds into each investment group we will come out with $8000 of interest.\n",
    "\n",
    "\n",
    "## Optional formatting tips"
   ]
  },
  {
   "cell_type": "markdown",
   "id": "c526191b-db63-4ba7-b914-06248b23efbc",
   "metadata": {},
   "source": [
    "It can get a bit messy if you want to present even a simple expression with nice formatting. Though this won't be necessary for any of these exercises sometimes it's just fun to make things look nice!!!\n",
    "\n",
    "For example to show a simple matrix-vector multiplication like $Av$ we might do the following:"
   ]
  },
  {
   "cell_type": "code",
   "execution_count": 24,
   "id": "3e19f713-168c-46cf-8cd4-c851c6a38a07",
   "metadata": {},
   "outputs": [
    {
     "data": {
      "text/html": [
       "<html>\\(\\displaystyle Av = \\left(\\begin{array}{rrr}\n",
       "1 & 0 & 2 \\\\\n",
       "1 & -1 & 0 \\\\\n",
       "2 & -1 & 3\n",
       "\\end{array}\\right) \\left(\\begin{array}{r}\n",
       "1 \\\\\n",
       "0 \\\\\n",
       "1\n",
       "\\end{array}\\right) = \\left(\\begin{array}{r}\n",
       "3 \\\\\n",
       "1 \\\\\n",
       "5\n",
       "\\end{array}\\right)\\)</html>"
      ],
      "text/latex": [
       "$\\displaystyle Av = \\left(\\begin{array}{rrr}\n",
       "1 & 0 & 2 \\\\\n",
       "1 & -1 & 0 \\\\\n",
       "2 & -1 & 3\n",
       "\\end{array}\\right) \\left(\\begin{array}{r}\n",
       "1 \\\\\n",
       "0 \\\\\n",
       "1\n",
       "\\end{array}\\right) = \\left(\\begin{array}{r}\n",
       "3 \\\\\n",
       "1 \\\\\n",
       "5\n",
       "\\end{array}\\right)$"
      ],
      "text/plain": [
       "Av = [ 1  0  2]\n",
       "[ 1 -1  0]\n",
       "[ 2 -1  3] [1]\n",
       "[0]\n",
       "[1] = [3]\n",
       "[1]\n",
       "[5]"
      ]
     },
     "metadata": {},
     "output_type": "display_data"
    }
   ],
   "source": [
    "show(LatexExpr(\"Av =\"),A,column_matrix(v),LatexExpr(\"=\"),column_matrix(A*v))"
   ]
  },
  {
   "cell_type": "markdown",
   "id": "9d193be1-0fff-423a-b69a-0262a78c36f9",
   "metadata": {},
   "source": [
    "Since the default view of a vector is horizontal we can use the `column_matrix` function to adjust this. Try removing the `column_matrix` funcion above to see what the output looks like.\n",
    "\n",
    "Depending on user preference it is possible to \"invert\" the conversions using Python f-strings (i.e. in the first version we convert the text and evaluate the math, in the version below we convert the math and leave the text the same)"
   ]
  },
  {
   "cell_type": "code",
   "execution_count": 25,
   "id": "2b14d331-8ea3-4c3c-a6a4-31ea2adeb0f0",
   "metadata": {},
   "outputs": [
    {
     "data": {
      "text/html": [
       "<html>\\(\\displaystyle Av = \\left(\\begin{array}{rrr}\n",
       "1 & 0 & 2 \\\\\n",
       "1 & -1 & 0 \\\\\n",
       "2 & -1 & 3\n",
       "\\end{array}\\right)\\left(\\begin{array}{r}\n",
       "1 \\\\\n",
       "0 \\\\\n",
       "1\n",
       "\\end{array}\\right) = \\left(\\begin{array}{r}\n",
       "3 \\\\\n",
       "1 \\\\\n",
       "5\n",
       "\\end{array}\\right)\\)</html>"
      ],
      "text/latex": [
       "$\\displaystyle Av = \\left(\\begin{array}{rrr}\n",
       "1 & 0 & 2 \\\\\n",
       "1 & -1 & 0 \\\\\n",
       "2 & -1 & 3\n",
       "\\end{array}\\right)\\left(\\begin{array}{r}\n",
       "1 \\\\\n",
       "0 \\\\\n",
       "1\n",
       "\\end{array}\\right) = \\left(\\begin{array}{r}\n",
       "3 \\\\\n",
       "1 \\\\\n",
       "5\n",
       "\\end{array}\\right)$"
      ],
      "text/plain": [
       "Av = \\left(\\begin{array}{rrr}\n",
       "1 & 0 & 2 \\\\\n",
       "1 & -1 & 0 \\\\\n",
       "2 & -1 & 3\n",
       "\\end{array}\\right)\\left(\\begin{array}{r}\n",
       "1 \\\\\n",
       "0 \\\\\n",
       "1\n",
       "\\end{array}\\right) = \\left(\\begin{array}{r}\n",
       "3 \\\\\n",
       "1 \\\\\n",
       "5\n",
       "\\end{array}\\right)"
      ]
     },
     "metadata": {},
     "output_type": "display_data"
    }
   ],
   "source": [
    "latex_string = f\"Av = {latex(A)}{latex(column_matrix(v))} = {latex(column_matrix(A*v))}\"\n",
    "show(LatexExpr(latex_string))"
   ]
  },
  {
   "cell_type": "code",
   "execution_count": null,
   "id": "2f9dc805-516a-44f7-bacd-8975ccfcc557",
   "metadata": {},
   "outputs": [],
   "source": []
  }
 ],
 "metadata": {
  "kernelspec": {
   "display_name": "Python 3",
   "language": "python",
   "name": "python3"
  },
  "language_info": {
   "codemirror_mode": {
    "name": "ipython",
    "version": 3
   },
   "file_extension": ".py",
   "mimetype": "text/x-python",
   "name": "python",
   "nbconvert_exporter": "python",
   "pygments_lexer": "ipython3",
   "version": "3.13.3"
  }
 },
 "nbformat": 4,
 "nbformat_minor": 5
}
